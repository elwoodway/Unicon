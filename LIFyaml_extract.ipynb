{
 "cells": [
  {
   "cell_type": "code",
   "execution_count": 194,
   "id": "aeb25abd-fa6a-4294-95f4-c0d647314de0",
   "metadata": {},
   "outputs": [],
   "source": [
    "from openapi_schema_validator import validate\n",
    "import yaml\n",
    "import pandas as pd\n",
    "import json"
   ]
  },
  {
   "cell_type": "code",
   "execution_count": 196,
   "id": "558c7d03-ed05-4365-b792-944533783760",
   "metadata": {},
   "outputs": [],
   "source": [
    "with open('lif.yaml','r') as data:\n",
    "          schema = yaml.safe_load(data)"
   ]
  },
  {
   "cell_type": "code",
   "execution_count": 198,
   "id": "1cb087d3-4ddd-47e7-b40d-66776ee03668",
   "metadata": {},
   "outputs": [],
   "source": [
    "json_str = json.dumps(schema)\n",
    "json_dict = json.loads(json_str)"
   ]
  },
  {
   "cell_type": "code",
   "execution_count": 200,
   "id": "4c471f22-9d49-4503-b964-5260226e8164",
   "metadata": {},
   "outputs": [],
   "source": [
    "df = pd.DataFrame.from_dict(json_dict)"
   ]
  },
  {
   "cell_type": "code",
   "execution_count": 202,
   "id": "e15bbaf8-9251-4bc0-be86-772b3c4e3d30",
   "metadata": {},
   "outputs": [],
   "source": [
    "df = df.reset_index()"
   ]
  },
  {
   "cell_type": "code",
   "execution_count": 204,
   "id": "eddc350f-da03-4c8d-b57a-a48e80b43a21",
   "metadata": {},
   "outputs": [],
   "source": [
    "objects = df.iloc[0]['components']"
   ]
  },
  {
   "cell_type": "code",
   "execution_count": 206,
   "id": "038f2f24-38f0-4cce-b916-de6f3ea93388",
   "metadata": {},
   "outputs": [],
   "source": [
    "df2 = pd.DataFrame.from_dict(objects)"
   ]
  },
  {
   "cell_type": "code",
   "execution_count": 208,
   "id": "de673421-f1e8-4d9d-b1af-271c4e16854b",
   "metadata": {},
   "outputs": [],
   "source": [
    "df2 = df2.reset_index()"
   ]
  },
  {
   "cell_type": "code",
   "execution_count": 210,
   "id": "087d2113-a53a-4ae5-a334-a2e261aae292",
   "metadata": {},
   "outputs": [],
   "source": [
    "# Level 1\n",
    "Assessment_dict = df2.iloc[1]['Assessment']\n",
    "CompetencyFramework_dict = df2.iloc[1]['CompetencyFramework']\n",
    "Course_dict = df2.iloc[1]['Course']\n",
    "Credential_dict = df2.iloc[1]['Credential']\n",
    "Organization_dict = df2.iloc[1]['Organization']\n",
    "Person_dict = df2.iloc[1]['Person']\n",
    "Position_dict = df2.iloc[1]['Position']\n",
    "Program_dict = df2.iloc[1]['Program']"
   ]
  },
  {
   "cell_type": "code",
   "execution_count": 212,
   "id": "19948d49-f6df-49b4-9fdd-8d1f4c414d35",
   "metadata": {},
   "outputs": [
    {
     "ename": "KeyError",
     "evalue": "'properties'",
     "output_type": "error",
     "traceback": [
      "\u001b[0;31m---------------------------------------------------------------------------\u001b[0m",
      "\u001b[0;31mKeyError\u001b[0m                                  Traceback (most recent call last)",
      "File \u001b[0;32m/opt/anaconda3/lib/python3.11/site-packages/pandas/core/indexes/base.py:3805\u001b[0m, in \u001b[0;36mIndex.get_loc\u001b[0;34m(self, key)\u001b[0m\n\u001b[1;32m   3804\u001b[0m \u001b[38;5;28;01mtry\u001b[39;00m:\n\u001b[0;32m-> 3805\u001b[0m     \u001b[38;5;28;01mreturn\u001b[39;00m \u001b[38;5;28mself\u001b[39m\u001b[38;5;241m.\u001b[39m_engine\u001b[38;5;241m.\u001b[39mget_loc(casted_key)\n\u001b[1;32m   3806\u001b[0m \u001b[38;5;28;01mexcept\u001b[39;00m \u001b[38;5;167;01mKeyError\u001b[39;00m \u001b[38;5;28;01mas\u001b[39;00m err:\n",
      "File \u001b[0;32mindex.pyx:167\u001b[0m, in \u001b[0;36mpandas._libs.index.IndexEngine.get_loc\u001b[0;34m()\u001b[0m\n",
      "File \u001b[0;32mindex.pyx:196\u001b[0m, in \u001b[0;36mpandas._libs.index.IndexEngine.get_loc\u001b[0;34m()\u001b[0m\n",
      "File \u001b[0;32mpandas/_libs/hashtable_class_helper.pxi:7081\u001b[0m, in \u001b[0;36mpandas._libs.hashtable.PyObjectHashTable.get_item\u001b[0;34m()\u001b[0m\n",
      "File \u001b[0;32mpandas/_libs/hashtable_class_helper.pxi:7089\u001b[0m, in \u001b[0;36mpandas._libs.hashtable.PyObjectHashTable.get_item\u001b[0;34m()\u001b[0m\n",
      "\u001b[0;31mKeyError\u001b[0m: 'properties'",
      "\nThe above exception was the direct cause of the following exception:\n",
      "\u001b[0;31mKeyError\u001b[0m                                  Traceback (most recent call last)",
      "Cell \u001b[0;32mIn[212], line 10\u001b[0m\n\u001b[1;32m      7\u001b[0m alignmentType_dict \u001b[38;5;241m=\u001b[39m CompetencyFramework_df\u001b[38;5;241m.\u001b[39miloc[\u001b[38;5;241m1\u001b[39m][\u001b[38;5;124m'\u001b[39m\u001b[38;5;124mproperties\u001b[39m\u001b[38;5;124m'\u001b[39m]\n\u001b[1;32m      8\u001b[0m \u001b[38;5;66;03m#Course\u001b[39;00m\n\u001b[1;32m      9\u001b[0m \u001b[38;5;66;03m#Grade_dict = Course_df.iloc[1]['properties']\u001b[39;00m\n\u001b[0;32m---> 10\u001b[0m CourseIdentifier_dict \u001b[38;5;241m=\u001b[39m Course_df\u001b[38;5;241m.\u001b[39miloc[\u001b[38;5;241m1\u001b[39m][\u001b[38;5;124m'\u001b[39m\u001b[38;5;124mproperties\u001b[39m\u001b[38;5;124m'\u001b[39m]\n\u001b[1;32m     11\u001b[0m \u001b[38;5;66;03m#Credential\u001b[39;00m\n\u001b[1;32m     12\u001b[0m \u001b[38;5;66;03m#CredentialAccreditation_dict = Credential_df.iloc[1]['properties']\u001b[39;00m\n\u001b[1;32m     13\u001b[0m CredentialsAlignment_dict \u001b[38;5;241m=\u001b[39m Credential_df\u001b[38;5;241m.\u001b[39miloc[\u001b[38;5;241m1\u001b[39m][\u001b[38;5;124m'\u001b[39m\u001b[38;5;124mproperties\u001b[39m\u001b[38;5;124m'\u001b[39m]\n",
      "File \u001b[0;32m/opt/anaconda3/lib/python3.11/site-packages/pandas/core/series.py:1121\u001b[0m, in \u001b[0;36mSeries.__getitem__\u001b[0;34m(self, key)\u001b[0m\n\u001b[1;32m   1118\u001b[0m     \u001b[38;5;28;01mreturn\u001b[39;00m \u001b[38;5;28mself\u001b[39m\u001b[38;5;241m.\u001b[39m_values[key]\n\u001b[1;32m   1120\u001b[0m \u001b[38;5;28;01melif\u001b[39;00m key_is_scalar:\n\u001b[0;32m-> 1121\u001b[0m     \u001b[38;5;28;01mreturn\u001b[39;00m \u001b[38;5;28mself\u001b[39m\u001b[38;5;241m.\u001b[39m_get_value(key)\n\u001b[1;32m   1123\u001b[0m \u001b[38;5;66;03m# Convert generator to list before going through hashable part\u001b[39;00m\n\u001b[1;32m   1124\u001b[0m \u001b[38;5;66;03m# (We will iterate through the generator there to check for slices)\u001b[39;00m\n\u001b[1;32m   1125\u001b[0m \u001b[38;5;28;01mif\u001b[39;00m is_iterator(key):\n",
      "File \u001b[0;32m/opt/anaconda3/lib/python3.11/site-packages/pandas/core/series.py:1237\u001b[0m, in \u001b[0;36mSeries._get_value\u001b[0;34m(self, label, takeable)\u001b[0m\n\u001b[1;32m   1234\u001b[0m     \u001b[38;5;28;01mreturn\u001b[39;00m \u001b[38;5;28mself\u001b[39m\u001b[38;5;241m.\u001b[39m_values[label]\n\u001b[1;32m   1236\u001b[0m \u001b[38;5;66;03m# Similar to Index.get_value, but we do not fall back to positional\u001b[39;00m\n\u001b[0;32m-> 1237\u001b[0m loc \u001b[38;5;241m=\u001b[39m \u001b[38;5;28mself\u001b[39m\u001b[38;5;241m.\u001b[39mindex\u001b[38;5;241m.\u001b[39mget_loc(label)\n\u001b[1;32m   1239\u001b[0m \u001b[38;5;28;01mif\u001b[39;00m is_integer(loc):\n\u001b[1;32m   1240\u001b[0m     \u001b[38;5;28;01mreturn\u001b[39;00m \u001b[38;5;28mself\u001b[39m\u001b[38;5;241m.\u001b[39m_values[loc]\n",
      "File \u001b[0;32m/opt/anaconda3/lib/python3.11/site-packages/pandas/core/indexes/base.py:3812\u001b[0m, in \u001b[0;36mIndex.get_loc\u001b[0;34m(self, key)\u001b[0m\n\u001b[1;32m   3807\u001b[0m     \u001b[38;5;28;01mif\u001b[39;00m \u001b[38;5;28misinstance\u001b[39m(casted_key, \u001b[38;5;28mslice\u001b[39m) \u001b[38;5;129;01mor\u001b[39;00m (\n\u001b[1;32m   3808\u001b[0m         \u001b[38;5;28misinstance\u001b[39m(casted_key, abc\u001b[38;5;241m.\u001b[39mIterable)\n\u001b[1;32m   3809\u001b[0m         \u001b[38;5;129;01mand\u001b[39;00m \u001b[38;5;28many\u001b[39m(\u001b[38;5;28misinstance\u001b[39m(x, \u001b[38;5;28mslice\u001b[39m) \u001b[38;5;28;01mfor\u001b[39;00m x \u001b[38;5;129;01min\u001b[39;00m casted_key)\n\u001b[1;32m   3810\u001b[0m     ):\n\u001b[1;32m   3811\u001b[0m         \u001b[38;5;28;01mraise\u001b[39;00m InvalidIndexError(key)\n\u001b[0;32m-> 3812\u001b[0m     \u001b[38;5;28;01mraise\u001b[39;00m \u001b[38;5;167;01mKeyError\u001b[39;00m(key) \u001b[38;5;28;01mfrom\u001b[39;00m \u001b[38;5;21;01merr\u001b[39;00m\n\u001b[1;32m   3813\u001b[0m \u001b[38;5;28;01mexcept\u001b[39;00m \u001b[38;5;167;01mTypeError\u001b[39;00m:\n\u001b[1;32m   3814\u001b[0m     \u001b[38;5;66;03m# If we have a listlike key, _check_indexing_error will raise\u001b[39;00m\n\u001b[1;32m   3815\u001b[0m     \u001b[38;5;66;03m#  InvalidIndexError. Otherwise we fall through and re-raise\u001b[39;00m\n\u001b[1;32m   3816\u001b[0m     \u001b[38;5;66;03m#  the TypeError.\u001b[39;00m\n\u001b[1;32m   3817\u001b[0m     \u001b[38;5;28mself\u001b[39m\u001b[38;5;241m.\u001b[39m_check_indexing_error(key)\n",
      "\u001b[0;31mKeyError\u001b[0m: 'properties'"
     ]
    }
   ],
   "source": [
    "# Level 2\n",
    "#Assessment\n",
    "AssessmentPerformanceLevel_dict = Assessment_df.iloc[0]['properties']\n",
    "#CompetencyFramework\n",
    "#competencyAssociationConnectionCitation_dict = CompetencyFramework_df.iloc[1]['properties']\n",
    "#Accessibility_dict = CompetencyFramework_df.iloc[1]['properties']\n",
    "alignmentType_dict = CompetencyFramework_df.iloc[1]['properties']\n",
    "#Course\n",
    "#Grade_dict = Course_df.iloc[1]['properties']\n",
    "CourseIdentifier_dict = Course_df.iloc[1]['properties']\n",
    "#Credential\n",
    "#CredentialAccreditation_dict = Credential_df.iloc[1]['properties']\n",
    "CredentialsAlignment_dict = Credential_df.iloc[1]['properties']\n",
    "#Image_dict = Credential_df.iloc[1]['properties']\n",
    "#Requirements_dict = Credential_df.iloc[1]['properties']\n",
    "#Organization\n",
    "#OrganizationAccreditation_dict = Organization_df.iloc[1]['properties']\n",
    "Contact_dict = Organization_df.iloc[1]['properties']\n",
    "#OrganizationIdentifier_dict = Organization_df.iloc[1]['properties']\n",
    "#OrganizationalStatus_dict = Organization_df.iloc[1]['properties']\n",
    "#OrganizationCode_dict = Organization_df.iloc[1]['properties']\n",
    "#Person\n",
    "#AssessmentLearningExperience_dict = Person_df.iloc[1]['properties']\n",
    "Birth_dict = Person_df.iloc[1]['properties']\n",
    "#Consent_dict = Person_df.iloc[1]['properties']\n",
    "#PersonContact_dict = Person_df.iloc[1]['properties']\n",
    "#CourseLearningExperience_dict = Person_df.iloc[1]['properties']\n",
    "#CredentialAward_dict = Person_df.iloc[1]['properties']\n",
    "#Culture_dict = Person_df.iloc[1]['properties']\n",
    "#Death_dict = Person_df.iloc[1]['properties']\n",
    "#Demographics_dict = Person_df.iloc[1]['properties']\n",
    "#EmploymentLearningExperience_dict = Person_df.iloc[1]['properties']\n",
    "#PersonIdentifier_dict = Person_df.iloc[1]['properties']\n",
    "#Language_dict = Person_df.iloc[1]['properties']\n",
    "#MilitaryLearningExperience_dict = Person_df.iloc[1]['properties']\n",
    "#PersonName_dict = Person_df.iloc[1]['properties']\n",
    "#Proficiency_dict = Person_df.iloc[1]['properties']\n",
    "#ProgramLearningExperience_dict = Person_df.iloc[1]['properties']\n",
    "#RelationshipContacts_dict = Person_df.iloc[1]['properties']\n",
    "#Residency_dict = Person_df.iloc[1]['properties']\n",
    "#SexAndGender_dict = Person_df.iloc[1]['properties']\n",
    "#Position\n",
    "#IndustryCode_dict = Position_df.iloc[1]['properties']\n",
    "JobCode_dict = Position_df.iloc[1]['properties']\n",
    "#Membership_dict = Position_df.iloc[1]['properties']\n",
    "#Wage_dict = Position_df.iloc[1]['properties']"
   ]
  },
  {
   "cell_type": "code",
   "execution_count": 214,
   "id": "ccbc079a-b634-4b96-b948-13b6cd03723e",
   "metadata": {},
   "outputs": [],
   "source": [
    "# Level 1\n",
    "Assessment_df = pd.DataFrame.from_dict(Assessment_dict).transpose()\n",
    "AssessmentPerformanceLevel_df = pd.DataFrame.from_dict(AssessmentPerformanceLevel_dict).transpose()\n",
    "CompetencyFramework_df = pd.DataFrame.from_dict(CompetencyFramework_dict).transpose()\n",
    "competencyAssociationConnectionCitation_df = pd.DataFrame.from_dict(competencyAssociationConnectionCitation_dict).transpose()\n",
    "Accessibility_df = pd.DataFrame.from_dict(Accessibility_dict).transpose()\n",
    "alignmentType_df = pd.DataFrame.from_dict(alignmentType_dict).transpose()\n",
    "Course_df = pd.DataFrame.from_dict(CourseIdentifier_dict).transpose()\n",
    "Credential_df = pd.DataFrame.from_dict(Credential_dict).transpose()\n",
    "Organization_df = pd.DataFrame.from_dict(Organization_dict).transpose()\n",
    "Person_df = pd.DataFrame.from_dict(Person_dict).transpose()\n",
    "Position_df = pd.DataFrame.from_dict(Position_dict).transpose()\n",
    "Program_df = pd.DataFrame.from_dict(Program_dict).transpose()\n",
    "# Level 2\n",
    "#Assessment\n",
    "AssessmentPerformanceLevel_df = pd.DataFrame.from_dict(AssessmentPerformanceLevel_dict).transpose()\n",
    "#CompetencyFramework\n",
    "#competencyAssociationConnectionCitation_df = pd.DataFrame.from_dict(competencyAssociationConnectionCitation_dict).transpose()\n",
    "#Accessibility_df = pd.DataFrame.from_dict(Accessibility_dict).transpose()\n",
    "alignmentType_df = pd.DataFrame.from_dict(alignmentType_dict).transpose()\n",
    "#Course\n",
    "#Grade_df = pd.DataFrame.from_dict(Grade_dict).transpose()\n",
    "CourseIdentifier_df = pd.DataFrame.from_dict(CourseIdentifier_dict).transpose()\n",
    "#Credential\n",
    "#CredentialAccreditation_df = pd.DataFrame.from_dict(CredentialAccreditation_dict).transpose()\n",
    "CredentialsAlignment_df = pd.DataFrame.from_dict(CredentialsAlignment_dict).transpose()\n",
    "#Image_df = pd.DataFrame.from_dict(Image_dict).transpose()\n",
    "#Requirements_df = pd.DataFrame.from_dict(Requirements_dict).transpose()\n",
    "#Organization\n",
    "#OrganizationAccreditation_df = pd.DataFrame.from_dict(OrganizationAccreditation_dict).transpose()\n",
    "Contact_df = pd.DataFrame.from_dict(Contact_dict).transpose()\n",
    "#OrganizationIdentifier_df = pd.DataFrame.from_dict(OrganizationIdentifier_dict).transpose()\n",
    "#OrganizationalStatus_df = pd.DataFrame.from_dict(OrganizationalStatus_dict).transpose()\n",
    "#OrganizationCode_df = pd.DataFrame.from_dict(OrganizationCode_dict).transpose()\n",
    "#Person\n",
    "#AssessmentLearningExperience_df = pd.DataFrame.from_dict(AssessmentLearningExperience_dict).transpose()\n",
    "Birth_df = pd.DataFrame.from_dict(Birth_dict).transpose()\n",
    "#Consent_df = pd.DataFrame.from_dict(Consent_dict).transpose()\n",
    "#PersonContact_df = pd.DataFrame.from_dict(PersonContact_dict).transpose()\n",
    "#CourseLearningExperience_df = pd.DataFrame.from_dict(CourseLearningExperience_dict).transpose()\n",
    "#CredentialAward_df = pd.DataFrame.from_dict(CredentialAward_dict).transpose()\n",
    "#Culture_df = pd.DataFrame.from_dict(Culture_dict).transpose()\n",
    "#Death_df = pd.DataFrame.from_dict(Death_dict).transpose()\n",
    "#Demographics_df = pd.DataFrame.from_dict(Demographics_dict).transpose()\n",
    "#EmploymentLearningExperience_df = pd.DataFrame.from_dict(EmploymentLearningExperience_dict).transpose()\n",
    "#PersonIdentifier_df = pd.DataFrame.from_dict(PersonIdentifier_dict).transpose()\n",
    "#Language_df = pd.DataFrame.from_dict(Language_dict).transpose()\n",
    "#MilitaryLearningExperience_df = pd.DataFrame.from_dict(MilitaryLearningExperience_dict).transpose()\n",
    "#PersonName_df = pd.DataFrame.from_dict(PersonName_dict).transpose()\n",
    "#Proficiency_df = pd.DataFrame.from_dict(Proficiency_dict).transpose()\n",
    "#ProgramLearningExperience_df = pd.DataFrame.from_dict(ProgramLearningExperience_dict).transpose()\n",
    "#RelationshipContacts_df = pd.DataFrame.from_dict(RelationshipContacts_dict).transpose()\n",
    "#Residency_df = pd.DataFrame.from_dict(Residency_dict).transpose()\n",
    "#SexAndGender_df = pd.DataFrame.from_dict(SexAndGender_dict).transpose()\n",
    "#Position\n",
    "#IndustryCode_df = pd.DataFrame.from_dict(IndustryCode_dict).transpose()\n",
    "JobCode_df = pd.DataFrame.from_dict(JobCode_dict).transpose()\n",
    "#Membership_df = pd.DataFrame.from_dict(Membership_dict).transpose()\n",
    "#Wage_df = pd.DataFrame.from_dict(Wage_dict).transpose()"
   ]
  },
  {
   "cell_type": "code",
   "execution_count": null,
   "id": "8e365427-2e7e-4e8f-a416-18df0d108f5b",
   "metadata": {},
   "outputs": [],
   "source": []
  },
  {
   "cell_type": "code",
   "execution_count": null,
   "id": "f8d2adb7-63d7-432b-aab7-3bc67b8c4aa0",
   "metadata": {},
   "outputs": [],
   "source": []
  },
  {
   "cell_type": "code",
   "execution_count": null,
   "id": "fea81b72-ffff-4a17-bb93-242bfcd78e6f",
   "metadata": {},
   "outputs": [],
   "source": []
  },
  {
   "cell_type": "code",
   "execution_count": null,
   "id": "9266e0ce-beee-40b8-8962-10d4b2d20541",
   "metadata": {},
   "outputs": [],
   "source": []
  }
 ],
 "metadata": {
  "kernelspec": {
   "display_name": "Python 3 (ipykernel)",
   "language": "python",
   "name": "python3"
  },
  "language_info": {
   "codemirror_mode": {
    "name": "ipython",
    "version": 3
   },
   "file_extension": ".py",
   "mimetype": "text/x-python",
   "name": "python",
   "nbconvert_exporter": "python",
   "pygments_lexer": "ipython3",
   "version": "3.11.7"
  }
 },
 "nbformat": 4,
 "nbformat_minor": 5
}
