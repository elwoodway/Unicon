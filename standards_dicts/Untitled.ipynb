{
 "cells": [
  {
   "cell_type": "code",
   "execution_count": 2,
   "id": "3fd29c1b-0ff5-4872-a624-cb320e46a212",
   "metadata": {},
   "outputs": [],
   "source": [
    "from openapi_schema_validator import validate\n",
    "import yaml\n",
    "import pandas as pa"
   ]
  },
  {
   "cell_type": "code",
   "execution_count": 4,
   "id": "36bc3497-72cd-4581-96fd-b11be6788f76",
   "metadata": {},
   "outputs": [
    {
     "ename": "SyntaxError",
     "evalue": "incomplete input (3397299655.py, line 2)",
     "output_type": "error",
     "traceback": [
      "\u001b[0;36m  Cell \u001b[0;32mIn[4], line 2\u001b[0;36m\u001b[0m\n\u001b[0;31m    schema = (yaml.safe_load(data)\u001b[0m\n\u001b[0m                                  ^\u001b[0m\n\u001b[0;31mSyntaxError\u001b[0m\u001b[0;31m:\u001b[0m incomplete input\n"
     ]
    }
   ],
   "source": [
    "with open('lif.yaml','r') as data:\n",
    "          schema = (yaml.safe_load(data)\n",
    "\n",
    "with open('tree.yaml', 'r') as f:\n",
    "    doc = yaml.load(f)"
   ]
  },
  {
   "cell_type": "code",
   "execution_count": null,
   "id": "11b54106-3687-4f28-9382-ad239eb985fd",
   "metadata": {},
   "outputs": [],
   "source": []
  }
 ],
 "metadata": {
  "kernelspec": {
   "display_name": "Python 3 (ipykernel)",
   "language": "python",
   "name": "python3"
  },
  "language_info": {
   "codemirror_mode": {
    "name": "ipython",
    "version": 3
   },
   "file_extension": ".py",
   "mimetype": "text/x-python",
   "name": "python",
   "nbconvert_exporter": "python",
   "pygments_lexer": "ipython3",
   "version": "3.11.7"
  }
 },
 "nbformat": 4,
 "nbformat_minor": 5
}
